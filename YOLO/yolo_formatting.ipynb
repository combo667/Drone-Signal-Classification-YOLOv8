{
 "cells": [
  {
   "cell_type": "code",
   "execution_count": null,
   "metadata": {},
   "outputs": [],
   "source": [
    "\"\"\"\n",
    "\n",
    "Formatting for YOLO includes :\n",
    "1. Dividing the data into train and validation sets\n",
    "2. Caution: The name of image files and their corresponding label file should be same in both the folders\n",
    "3. Try not to name the files like \"FSGT2 drone-1\", because the model might learn this as well. Naming the files as \"1\",\"2\", etc. is the best. Also applies for label files.\n",
    "4. Also, try to include randomness in you data\n",
    "\n",
    "\"\"\" "
   ]
  },
  {
   "cell_type": "code",
   "execution_count": 1,
   "metadata": {},
   "outputs": [
    {
     "name": "stdout",
     "output_type": "stream",
     "text": [
      "copied file 51.txt\n",
      "copied file 52.txt\n",
      "copied file 53.txt\n",
      "copied file 54.txt\n",
      "copied file 55.txt\n",
      "copied file 56.txt\n",
      "copied file 57.txt\n",
      "copied file 58.txt\n",
      "copied file 59.txt\n",
      "copied file 60.txt\n",
      "copied file labels.txt\n"
     ]
    }
   ],
   "source": [
    "# YOLO Label puts the image and labels in the same folder, so we separate both of these first\n",
    "\n",
    "import os\n",
    "import shutil\n",
    "\n",
    "def copy_files(source,dest):\n",
    "    for filename in os.listdir(source):\n",
    "        if filename.endswith('.txt'):\n",
    "            sourcefile = os.path.join(source,filename)\n",
    "            destfile = os.path.join(dest,filename)\n",
    "\n",
    "            shutil.copyfile(sourcefile,destfile)\n",
    "            print(f\"copied file {filename}\")\n",
    "\n",
    "\n",
    "src = r\"C:\\Users\\DELL\\Desktop\\test_KT\"  # Location where Spectrograms + Labels are present\n",
    "dst = r\"C:\\Users\\DELL\\Desktop\\test_KT\\labels\"   # Location where labels should be saved\n",
    "\n",
    "copy_files(src,dst)"
   ]
  },
  {
   "cell_type": "code",
   "execution_count": 3,
   "metadata": {},
   "outputs": [
    {
     "name": "stdout",
     "output_type": "stream",
     "text": [
      "deleted file 51.txt\n",
      "deleted file 52.txt\n",
      "deleted file 53.txt\n",
      "deleted file 54.txt\n",
      "deleted file 55.txt\n",
      "deleted file 56.txt\n",
      "deleted file 57.txt\n",
      "deleted file 58.txt\n",
      "deleted file 59.txt\n",
      "deleted file 60.txt\n",
      "deleted file labels.txt\n"
     ]
    }
   ],
   "source": [
    "# Delete those images from the source folder now\n",
    "\n",
    "def delete_files(source):\n",
    "    for filename in os.listdir(source):\n",
    "        if filename.endswith('.txt'):\n",
    "            sourcefile = os.path.join(source,filename)\n",
    "            os.remove(sourcefile)\n",
    "            print(f\"deleted file {filename}\")\n",
    "\n",
    "src = r\"C:\\Users\\DELL\\Desktop\\test_KT\"\n",
    "delete_files(src)"
   ]
  },
  {
   "cell_type": "code",
   "execution_count": null,
   "metadata": {},
   "outputs": [],
   "source": [
    "# Use this block of code if you want to change the name of files to integer numbers, it will do the same for label files as well\n",
    "\n",
    "import os\n",
    "\n",
    "source_folder = \"C:\\\\Users\\\\DELL\\\\Desktop\\\\Intern_Swapnil\\\\Drone_Detect_Dataset_Spec\\\\Mavic Mini\\\\YOLO_DD_BT\" # Location of all spectrogram immages\n",
    "source_folder_label =\"C:\\\\Users\\\\DELL\\\\Desktop\\\\Intern_Swapnil\\\\Drone_Detect_Dataset_Spec\\\\Mavic Mini\\\\YOLO_DD_BT_labels\" # Location fo all label images\n",
    "cnt=1 # The name of first image\n",
    "\n",
    "for filename in os.listdir(source_folder):\n",
    "    new_name = f\"{cnt}.png\"\n",
    "    #for images - keep the folders same, just change the name \n",
    "    src1 = os.path.join(source_folder,filename)\n",
    "    dst1 = os.path.join(source_folder,new_name)\n",
    "    \n",
    "    # for labels - Remove extension from image name and you'll get the corresponding label in the label source folder \n",
    "    file_rm_ext = os.path.splitext(filename)[0]\n",
    "    old_name = file_rm_ext + \".txt\"\n",
    "    new_name_label = f\"{cnt}.txt\"\n",
    "\n",
    "    src2 = os.path.join(source_folder_label,old_name)\n",
    "    dst2 = os.path.join(source_folder_label,new_name_label)\n",
    "\n",
    "    #rename both files\n",
    "    os.rename(src1,dst1)\n",
    "    os.rename(src2,dst2)\n",
    "    cnt = cnt+1 "
   ]
  },
  {
   "cell_type": "code",
   "execution_count": 10,
   "metadata": {},
   "outputs": [],
   "source": [
    "# Introduce randomness in the data (For spectrogram) and separte into train and val folders\n",
    "import random\n",
    "source = r\"C:\\Users\\DELL\\Desktop\\test_KT\\specs\" # Location where all spectrograms are saved\n",
    "dest1 = r\"C:\\Users\\DELL\\Desktop\\test_KT\\train\\images\" # Location of train folder\n",
    "dest2 = r\"C:\\Users\\DELL\\Desktop\\test_KT\\val\\images\"  # Location of val folder\n",
    "\n",
    "# shuffle here\n",
    "files = os.listdir(source)\n",
    "random.shuffle(files)\n",
    "\n",
    "files_for_one = files[:7]\n",
    "files_for_two = files[7:]"
   ]
  },
  {
   "cell_type": "code",
   "execution_count": 11,
   "metadata": {},
   "outputs": [],
   "source": [
    "# Dividing images into folders\n",
    "\n",
    "for filename in files_for_one:\n",
    "    sourcepath = os.path.join(source,filename)\n",
    "    destpath = os.path.join(dest1,filename)\n",
    "\n",
    "    shutil.copy(sourcepath,destpath)\n",
    "\n",
    "for filename in files_for_two:\n",
    "    sourcepath = os.path.join(source,filename)\n",
    "    destpath = os.path.join(dest2,filename)\n",
    "\n",
    "    shutil.copy(sourcepath,destpath)"
   ]
  },
  {
   "cell_type": "code",
   "execution_count": 12,
   "metadata": {},
   "outputs": [],
   "source": [
    "#  Same thing for labels\n",
    "label_source = r\"C:\\Users\\DELL\\Desktop\\test_KT\\labels\" # Source folder for labels\n",
    "dst1 = r\"C:\\Users\\DELL\\Desktop\\test_KT\\train\\labels\"\n",
    "dst2 =  r\"C:\\Users\\DELL\\Desktop\\test_KT\\val\\labels\""
   ]
  },
  {
   "cell_type": "code",
   "execution_count": 13,
   "metadata": {},
   "outputs": [],
   "source": [
    "# dividing lables into folders\n",
    "\n",
    "for filename in files_for_one:\n",
    "    file_rm_ext = os.path.splitext(filename)[0]\n",
    "    new_name = file_rm_ext + \".txt\"\n",
    "\n",
    "    sourcepath = os.path.join(label_source,new_name)\n",
    "    destpath = os.path.join(dst1,new_name)\n",
    "\n",
    "    shutil.copy(sourcepath,destpath)\n",
    "\n",
    "\n",
    "for filename in files_for_two:\n",
    "    file_rm_ext = os.path.splitext(filename)[0]\n",
    "    new_name = file_rm_ext + \".txt\"\n",
    "\n",
    "    sourcepath = os.path.join(label_source,new_name)\n",
    "    destpath = os.path.join(dst2,new_name)\n",
    "\n",
    "    shutil.copy(sourcepath,destpath)\n"
   ]
  },
  {
   "cell_type": "code",
   "execution_count": null,
   "metadata": {},
   "outputs": [],
   "source": []
  }
 ],
 "metadata": {
  "kernelspec": {
   "display_name": "base",
   "language": "python",
   "name": "python3"
  },
  "language_info": {
   "codemirror_mode": {
    "name": "ipython",
    "version": 3
   },
   "file_extension": ".py",
   "mimetype": "text/x-python",
   "name": "python",
   "nbconvert_exporter": "python",
   "pygments_lexer": "ipython3",
   "version": "3.11.7"
  }
 },
 "nbformat": 4,
 "nbformat_minor": 2
}
