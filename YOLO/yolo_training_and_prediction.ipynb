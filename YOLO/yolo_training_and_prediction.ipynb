{
 "cells": [
  {
   "cell_type": "code",
   "execution_count": null,
   "metadata": {},
   "outputs": [],
   "source": [
    "# import a nano model from the ultralytics package\n",
    "from ultralytics import YOLO\n",
    "model = YOLO('yolov8n-seg.pt')"
   ]
  },
  {
   "cell_type": "code",
   "execution_count": null,
   "metadata": {},
   "outputs": [],
   "source": [
    "# This code is for training the model, epochs = number of iterations, put location of data.yaml file in data field\n",
    "\n",
    "!yolo task=detect mode=train model=yolov8n.pt data=\"C:\\\\Users\\\\DELL\\\\Desktop\\\\test_KT\\\\data.yaml\" epochs=10 imgsz=640 plots=true"
   ]
  },
  {
   "cell_type": "code",
   "execution_count": null,
   "metadata": {},
   "outputs": [],
   "source": [
    "# This code is for running inference for a folder of images\n",
    "\n",
    "!yolo task=detect mode=predict model=\"C:\\\\Users\\\\DELL\\\\Desktop\\\\Intern_Swapnil\\\\runs\\\\detect\\\\train4\\\\weights\\\\best.pt\" source=\"C:\\\\Users\\\\DELL\\\\Desktop\\\\to_swapnil\\\\AIR_T_Data_Capture\\\\Spectrograms\\\\YOLO_3\\\\Test\\\\images\""
   ]
  },
  {
   "cell_type": "code",
   "execution_count": null,
   "metadata": {},
   "outputs": [],
   "source": [
    "# This code is to do validation of the trained model on the test data\n",
    "\n",
    "# Load model from the detect folder\n",
    "model_l = YOLO(\"C:\\\\Users\\\\DELL\\\\Desktop\\\\Intern_Swapnil\\\\runs\\\\detect\\\\train4\\\\weights\\\\best.pt\")\n",
    "metrics = model_l.val(data=\"C:\\\\Users\\\\DELL\\\\Desktop\\\\to_swapnil\\\\AIR_T_Data_Capture\\\\Spectrograms\\\\YOLO_3\\\\data.yaml\") # put location of test data in .yaml file"
   ]
  },
  {
   "cell_type": "code",
   "execution_count": null,
   "metadata": {},
   "outputs": [],
   "source": [
    "# Show final results\n",
    "metrics.results_dict"
   ]
  }
 ],
 "metadata": {
  "language_info": {
   "name": "python"
  }
 },
 "nbformat": 4,
 "nbformat_minor": 2
}
