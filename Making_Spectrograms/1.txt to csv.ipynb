{
 "cells": [
  {
   "cell_type": "markdown",
   "metadata": {},
   "source": [
    "Extract I,Q from .txt file and dump into .csv file as 2 separate columns"
   ]
  },
  {
   "cell_type": "code",
   "execution_count": null,
   "metadata": {},
   "outputs": [],
   "source": [
    "import numpy as np\n",
    "import csv\n",
    "\n",
    "# To convert the 32 bit IQ data received into separate I and Q arrays\n",
    "def load_data_from_file(file_path):\n",
    "\n",
    "    file_data = np.loadtxt(file_path, dtype=np.uint32)  \n",
    "    return file_data\n",
    "\n",
    "def load_data(file_data_1):\n",
    "\n",
    "    I_data = np.zeros(len(file_data_1), dtype=np.int16)\n",
    "    Q_data = np.zeros(len(file_data_1), dtype=np.int16)\n",
    "    \n",
    "  \n",
    "    for i, value in enumerate(file_data_1):\n",
    "        # The first 16 bits from MSB is the q value and the other 16 bits are I values\n",
    "        # So, we right shift the number by 16 bits to get the q value\n",
    "        Q_data[i] = (value >> 16) & 0xFFFF\n",
    "        I_data[i] = value & 0xFFFF\n",
    "    \n",
    "    return I_data, Q_data\n",
    "\n",
    "# Enter location where .txt file having 32 crore samples is saved\n",
    "file_loc = \" \"\n",
    "\n",
    "data = load_data_from_file(file_path=file_loc) # This loads the txt file\n",
    "I,Q = load_data(data)  # IQ data is loaded into 2 numpy arrays "
   ]
  },
  {
   "cell_type": "code",
   "execution_count": null,
   "metadata": {},
   "outputs": [],
   "source": [
    "# To dump the I,Q data to .csv file.\n",
    "# I do this because extracting information from .txt file takes 16 minutes everytime and investing 2 minutes to dump this data into .csv file will reduce the extraction time to 1 minute\n",
    "a = zip(I,Q)\n",
    "# Enter location where .csv file should be saved\n",
    "file = \"\"\n",
    "with open(file,mode='w',newline='') as file:\n",
    "    writer = csv.writer(file)\n",
    "    writer.writerow(['I','Q'])\n",
    "    writer.writerows(a)"
   ]
  }
 ],
 "metadata": {
  "kernelspec": {
   "display_name": "base",
   "language": "python",
   "name": "python3"
  },
  "language_info": {
   "codemirror_mode": {
    "name": "ipython",
    "version": 3
   },
   "file_extension": ".py",
   "mimetype": "text/x-python",
   "name": "python",
   "nbconvert_exporter": "python",
   "pygments_lexer": "ipython3",
   "version": "3.11.7"
  }
 },
 "nbformat": 4,
 "nbformat_minor": 2
}
